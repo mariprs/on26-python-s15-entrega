{
 "cells": [
  {
   "cell_type": "markdown",
   "metadata": {},
   "source": [
    "<img src='./entrega-mariana-pires/assets/coverImg.png' alt=\"Imagem utilizada como capa que contém o nome Mariana Pires, a semana 15 e a indicação da atividade (visualização de data com Tableau)\" />"
   ]
  },
  {
   "cell_type": "markdown",
   "metadata": {},
   "source": [
    "<style>\n",
    "ul {\n",
    "  list-style: none;\n",
    "}\n",
    "ul li:before {\n",
    "  content: '(✓)';\n",
    "}\n",
    "</style>\n",
    "<h2 style='font-family: Lucida Console; text-align:center'>Descrição:</h2>\n",
    "\n",
    "<p style=\"text-align: justify\"> Na última semana de conteúdo da reprograma, tivemos a oportunidade de aprender mais sobre a ferramenta de visualização Tableau e as suas diferentes possibilidades no que tange visualização de dados. E é ao redor da ferramenta e destas possibilidade que se dará o desafio semanal.</p>\n",
    "\n",
    "<h2 style='font-family: Lucida Console; text-align:center'><b>Checklist:</b></h2>\n",
    "<ul style=\"text-align: justify\"><li> Formular o mínimo de 6 visualizações diferentes;</li>\n",
    "<li> Utilizar a sua base final criada com os dados da Olist (caso você deseje enriquecer sua base conforme você for criando as visualizações, fique à vontade!);</li>\n",
    "<li> Publicar seu dashboard final no repositório do Tableau;</li>\n",
    "<li>Submeta uma pasta que contenha:</li>\n",
    "<div style=\"margin: 0.5em\"><li> O arquivo seu_nome.ipynb com sua análise exploratória;</li>\n",
    "<li> A base final criada por você no formato .csv;</li>\n",
    "<li> As bases da olist em .csv que você utilizou na criação da sua análise exploratória;</li></div>\n",
    "\n",
    "<p style=\"text-align: justify\"><b>Obs:</b> para este desafio, resolvi utilizar duas bases de dados, que estarão incluídas na pasta `database´</p>"
   ]
  },
  {
   "cell_type": "markdown",
   "metadata": {},
   "source": [
    "<h4 style='font-family: Lucida Console; text-align:justify; margin-left: 0 !important;'>Sobre o primeiro dataframe - `base_final_s14.csv´:</h4></ul>\n",
    "<p style=\"text-align: justify\">Utilizada na última atividade, a `base_final_s14.csv´ consiste em dados selecionados do conjunto de dataframes da Olist. </p>\n",
    "<ul style=\"text-align: justify\">Sendo estes:\n",
    "<li><b>`olist_sellers_dataset.csv´</b>: voltada para informações dos vendedores. Estão presentes os campos <b>seller_city</b> (cidade do vendedor) e <b>seller_state</b> (estado do vendedor)</li> \n",
    "<li><b>`olist_customers_dataset.csv´</b>: voltada para informações dos compradores. Estão presentes os campos <b>customer_city</b> (cidade do consumidor) e <b>customer_state</b> (estado do consumidor)</li>\n",
    "<li><b>`olist_products_dataset.csv´</b>: voltada para informações acerca de produtos. Estão presentes os campos <b>product_category_name</b> (nome da categoria do produto), <b>product_weight_g</b> (o peso do produto em gramas), <b>product_height_cm</b> (a altura do produto em cm) e <b>product_width_cm</b> (a largura do produto em cm)</li>\n",
    "<li>Além disso, o dataframe contém `merge_id´, um campo adicionado por mim para conseguir unir todos os dataframes.</li></u>"
   ]
  },
  {
   "cell_type": "markdown",
   "metadata": {},
   "source": [
    "<h4 style='font-family: Lucida Console; text-align:justify; margin-left: 0 !important;'>Sobre o segundo dataframe - `Gender_Inequality_Index.csv´:</h4></ul>\n",
    "<p style=\"text-align: justify\">Utilizada na atividade da semana 13, a `Gender_Inequality_Index.csv´ consiste em dados coletados do <a src=\"https://www.kaggle.com/datasets/gianinamariapetrascu/gender-inequality-index\" target=\"_blank\">Kaggle</a>.</p>\n",
    "<ul style=\"text-align: justify\">As colunas são:\n",
    "<li><b>Country:</b> o pais ao qual os dados se referem.</li>\n",
    "<li><b>Human Development:</b> o nível de desenvolvimento humano do país.</li>\n",
    "<li><b>GII:</b> a pontuação do Índice de Desigualdade de Gênero.</li>\n",
    "<li><b>Rank:</b> a posição do país no ranking global de desigualdade de gênero.</li>\n",
    "<li><b>Maternal Mortality:</b> a taxa de mortalidade materna, que funciona como indicador crítico de saúde feminina. Foi calculado um ratio de mortes por 100,000 nascimentos.</li>\n",
    "<li><b>Adolescent Birth Rate:</b> a taxa de natalidade na adolescência, fator que afeta saúde, oportunidades econômicas e reflete na educação.</li>\n",
    "<li><b>Seats in Parliament:</b> a representação feminina no parlamento em porcentagem, um fator de igualdade política.</li>\n",
    "<li><b>Female Secondary Education:</b> a participação feminina no ensino médio. Em porcentagem e incluído apenas mulheres de 25 anos e mais velhas.</li>\n",
    "<li><b>Male Secondary Education:</b> a participação masculina no ensino médio. Em porcentagem e incluído apenas homens de 25 anos e mais velhos.</li>\n",
    "<li><b>Female Labor Force Participation:</b> a participação feminina no mercado de trabalho. Em porcentagem, incluso idades de 15 para cima.</li>\n",
    "<li><b>Male Labor Force Participation:</b> a participação masculina no mercado de trabalho.Em porcentagem, incluso idades de 15 para cima.</li></ul>\n"
   ]
  },
  {
   "cell_type": "markdown",
   "metadata": {},
   "source": [
    "<h2 style='font-family: Lucida Console; text-align:center'><b>Visualizações:</b></h2>\n"
   ]
  },
  {
   "cell_type": "markdown",
   "metadata": {},
   "source": [
    "<img src=\"./entrega-mariana-pires/assets/vis2.png\">"
   ]
  },
  {
   "cell_type": "markdown",
   "metadata": {},
   "source": [
    "<img src=\"./entrega-mariana-pires/assets/vis1.png\">\n"
   ]
  },
  {
   "cell_type": "markdown",
   "metadata": {},
   "source": [
    "<a src=\"https://public.tableau.com/views/homeworkweek15-reprograma/CsvOlist?:language=pt-BR&:display_count=n&:origin=viz_share_link\" style='text-align:center'>Clique aqui para ir no Tableau</a>"
   ]
  }
 ],
 "metadata": {
  "language_info": {
   "name": "python"
  }
 },
 "nbformat": 4,
 "nbformat_minor": 2
}
